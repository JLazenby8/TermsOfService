{
 "cells": [
  {
   "cell_type": "code",
   "execution_count": 1,
   "metadata": {
    "collapsed": true
   },
   "outputs": [],
   "source": [
    "import pandas as pd\n",
    "import scipy\n",
    "import numpy as np\n",
    "import re # only for use of regex flags in pandas str methods"
   ]
  },
  {
   "cell_type": "code",
   "execution_count": 2,
   "metadata": {
    "collapsed": true
   },
   "outputs": [],
   "source": [
    "df = pd.read_csv(\"TermsOfService_Agreement.csv\")"
   ]
  },
  {
   "cell_type": "code",
   "execution_count": 3,
   "metadata": {
    "collapsed": false
   },
   "outputs": [],
   "source": [
    "# 0-1 flags for presence of special keywords\n",
    "df['Arbitration'] = (df.ParagraphText.str.contains('arbitration', flags=re.IGNORECASE)).astype('int8')\n",
    "df['ThirdParty'] = (df.ParagraphText.str.contains('third[- ]party', flags=re.IGNORECASE)).astype('int8')\n",
    "df['Waiver'] = (df.ParagraphText.str.contains('waiver', flags=re.IGNORECASE)).astype('int8')\n",
    "\n",
    "# Some more paragraph stats\n",
    "df['ParagraphWords'] = (df.ParagraphText.str.count(' ')) + 1 # a space was the best indicator of actual words I could find \n",
    "                                                             # without inserting a great deal of complication.\n",
    "df['ParagraphSentences'] = (df.ParagraphText.str.count(r'\\.[ $]')) # period followed by space or end-of-string\n",
    "df['Quotes'] = df.ParagraphText.str.count(r'[\"]')\n",
    "df['Parentheses'] = df.ParagraphText.str.count(r'[)(]') - 2*df.ParagraphText.str.count(r'\\([a-zA-Z0-9]\\)')\n",
    "df['AvgWordLength'] = (df.ParagraphLength - (df.ParagraphWords - 1) - df.ParagraphSentences - df.Quotes - \n",
    "                       df.Parentheses)/df.ParagraphWords\n",
    "#  (total chars - #spaces - #periods - #quotechars - #parentheses)/#words\n",
    "# not exact, but a good approximation."
   ]
  },
  {
   "cell_type": "code",
   "execution_count": 4,
   "metadata": {
    "collapsed": false
   },
   "outputs": [
    {
     "name": "stdout",
     "output_type": "stream",
     "text": [
      "Index(['Company', 'ParagraphText', 'ParagraphLength', 'SpacesCount',\n",
      "       'CapsCount', 'CapToLegthRatio', 'ParaLocation', 'Import_HM',\n",
      "       'Import_KS', 'Import_MH', 'Import_JL', 'Arbitration', 'ThirdParty',\n",
      "       'Waiver', 'ParagraphWords', 'ParagraphSentences', 'Quotes',\n",
      "       'Parentheses', 'AvgWordLength'],\n",
      "      dtype='object')\n",
      "['Amazon' 'Cloudant' 'Facebook' 'GitHub' 'Google' 'Instagram' 'Netflix'\n",
      " 'SoundCloud' 'Twitter' 'Wikipedia' 'Yahoo' 'Youtube' 'iCloud']\n"
     ]
    }
   ],
   "source": [
    "print(df.columns)\n",
    "print(np.sort(df.Company.unique()))"
   ]
  },
  {
   "cell_type": "code",
   "execution_count": 5,
   "metadata": {
    "collapsed": false
   },
   "outputs": [
    {
     "name": "stdout",
     "output_type": "stream",
     "text": [
      "['Import_HM', 'Import_JL', 'Import_KS', 'Import_MH']\n",
      "['Amazon' 'Cloudant' 'Facebook' 'GitHub' 'Google' 'Instagram' 'Netflix'\n",
      " 'SoundCloud' 'Twitter' 'Wikipedia' 'Yahoo' 'Youtube' 'iCloud']\n"
     ]
    }
   ],
   "source": [
    "annotations = sorted(list(df.columns[df.columns.str.contains('Import')]))\n",
    "companies = np.sort(df.Company.unique())\n",
    "print(annotations)\n",
    "print(companies)"
   ]
  },
  {
   "cell_type": "code",
   "execution_count": 10,
   "metadata": {
    "collapsed": false
   },
   "outputs": [
    {
     "name": "stdout",
     "output_type": "stream",
     "text": [
      "{'Import_JL': ('Amazon', 'Cloudant', 'GitHub', 'Instagram', 'SoundCloud', 'Twitter'), 'Import_HM': ('Facebook', 'GitHub', 'Google', 'Twitter', 'Yahoo', 'iCloud'), 'Import_MH': ('Cloudant', 'Facebook', 'Google', 'Netflix', 'SoundCloud', 'Youtube'), 'Import_KS': ('Amazon', 'Instagram', 'Netflix', 'Yahoo', 'Youtube', 'iCloud')}\n"
     ]
    }
   ],
   "source": [
    "# Define the assignments\n",
    "assignments = {annotations[0]:tuple(companies[[2,3,4,8,10,12]]),\n",
    "               annotations[1]:tuple(companies[[0,1,3,5,7,8]]),\n",
    "               annotations[2]:tuple(companies[[0,5,6,10,11,12]]),\n",
    "               annotations[3]:tuple(companies[[1,2,4,6,7,11]])}\n",
    "print(assignments)"
   ]
  },
  {
   "cell_type": "code",
   "execution_count": 11,
   "metadata": {
    "collapsed": false
   },
   "outputs": [
    {
     "name": "stdout",
     "output_type": "stream",
     "text": [
      "Import_JL:\n",
      "       Company  Import_JL  Import_HM  Import_MH  Import_KS\n",
      "595  Instagram        NaN        NaN        NaN          1\n",
      "596  Instagram        NaN        NaN        NaN          1\n",
      "597  Instagram        NaN        NaN        NaN          1\n",
      "Import_HM:\n",
      "Empty DataFrame\n",
      "Columns: [Company, Import_JL, Import_HM, Import_MH, Import_KS]\n",
      "Index: []\n",
      "Import_MH:\n",
      "        Company  Import_JL  Import_HM  Import_MH  Import_KS\n",
      "461  SoundCloud          0        NaN        NaN        NaN\n",
      "572    Cloudant          0        NaN        NaN        NaN\n",
      "740    Facebook        NaN          0        NaN        NaN\n",
      "Import_KS:\n",
      "    Company  Import_JL  Import_HM  Import_MH  Import_KS\n",
      "857  iCloud        NaN          0        NaN        NaN\n",
      "858  iCloud        NaN          0        NaN        NaN\n",
      "859  iCloud        NaN          0        NaN        NaN\n",
      "860  iCloud        NaN          0        NaN        NaN\n",
      "861  iCloud        NaN          0        NaN        NaN\n",
      "862  iCloud        NaN          0        NaN        NaN\n",
      "863  iCloud        NaN          0        NaN        NaN\n",
      "864  iCloud        NaN          1        NaN        NaN\n",
      "865  iCloud        NaN          0        NaN        NaN\n",
      "866  iCloud        NaN          0        NaN        NaN\n",
      "867  iCloud        NaN          1        NaN        NaN\n",
      "868  iCloud        NaN          0        NaN        NaN\n",
      "869  iCloud        NaN          0        NaN        NaN\n",
      "870  iCloud        NaN          1        NaN        NaN\n",
      "871  iCloud        NaN          1        NaN        NaN\n",
      "872  iCloud        NaN          0        NaN        NaN\n",
      "873  iCloud        NaN          0        NaN        NaN\n",
      "874  iCloud        NaN          0        NaN        NaN\n",
      "875  iCloud        NaN          0        NaN        NaN\n",
      "876  iCloud        NaN          1        NaN        NaN\n",
      "877  iCloud        NaN          0        NaN        NaN\n",
      "878  iCloud        NaN          0        NaN        NaN\n",
      "879  iCloud        NaN          0        NaN        NaN\n",
      "880  iCloud        NaN          0        NaN        NaN\n",
      "881  iCloud        NaN          0        NaN        NaN\n",
      "882  iCloud        NaN          0        NaN        NaN\n",
      "883  iCloud        NaN          0        NaN        NaN\n",
      "884  iCloud        NaN          0        NaN        NaN\n",
      "885  iCloud        NaN          0        NaN        NaN\n",
      "886  iCloud        NaN          0        NaN        NaN\n",
      "..      ...        ...        ...        ...        ...\n",
      "968  iCloud        NaN          1        NaN        NaN\n",
      "969  iCloud        NaN          0        NaN        NaN\n",
      "970  iCloud        NaN          1        NaN        NaN\n",
      "971  iCloud        NaN          1        NaN        NaN\n",
      "972  iCloud        NaN          0        NaN        NaN\n",
      "973  iCloud        NaN          0        NaN        NaN\n",
      "974  iCloud        NaN          0        NaN        NaN\n",
      "975  iCloud        NaN          0        NaN        NaN\n",
      "976  iCloud        NaN          0        NaN        NaN\n",
      "977  iCloud        NaN          0        NaN        NaN\n",
      "978  iCloud        NaN          0        NaN        NaN\n",
      "979  iCloud        NaN          0        NaN        NaN\n",
      "980  iCloud        NaN          1        NaN        NaN\n",
      "981  iCloud        NaN          0        NaN        NaN\n",
      "982  iCloud        NaN          0        NaN        NaN\n",
      "983  iCloud        NaN          0        NaN        NaN\n",
      "984  iCloud        NaN          0        NaN        NaN\n",
      "985  iCloud        NaN          0        NaN        NaN\n",
      "986  iCloud        NaN          0        NaN        NaN\n",
      "987  iCloud        NaN          0        NaN        NaN\n",
      "988  iCloud        NaN          0        NaN        NaN\n",
      "989  iCloud        NaN          0        NaN        NaN\n",
      "990  iCloud        NaN          0        NaN        NaN\n",
      "991  iCloud        NaN          0        NaN        NaN\n",
      "992  iCloud        NaN          0        NaN        NaN\n",
      "993  iCloud        NaN          0        NaN        NaN\n",
      "994  iCloud        NaN          0        NaN        NaN\n",
      "995  iCloud        NaN          0        NaN        NaN\n",
      "996  iCloud        NaN          0        NaN        NaN\n",
      "997  iCloud        NaN          0        NaN        NaN\n",
      "\n",
      "[141 rows x 5 columns]\n"
     ]
    }
   ],
   "source": [
    "# Inspect null values\n",
    "nulls = {}\n",
    "for name in list(assignments.keys()):\n",
    "    a = df[name][df.Company.isin(assignments[name])]\n",
    "    a = a[a.isnull()]\n",
    "    nulls[name] = a.index\n",
    "    \n",
    "for name in list(nulls.keys()):\n",
    "    indices = nulls[name]\n",
    "    print(name + \":\")\n",
    "    print(df.loc[indices, ['Company'] + list(nulls.keys())])"
   ]
  },
  {
   "cell_type": "code",
   "execution_count": 12,
   "metadata": {
    "collapsed": false
   },
   "outputs": [
    {
     "name": "stdout",
     "output_type": "stream",
     "text": [
      "       Company  Import_JL  Import_HM  Import_MH  Import_KS\n",
      "595  Instagram          1        NaN        NaN          1\n",
      "596  Instagram          1        NaN        NaN          1\n",
      "597  Instagram          1        NaN        NaN          1\n",
      "Empty DataFrame\n",
      "Columns: [Company, Import_JL, Import_HM, Import_MH, Import_KS]\n",
      "Index: []\n",
      "        Company  Import_JL  Import_HM  Import_MH  Import_KS\n",
      "461  SoundCloud          0        NaN          0        NaN\n",
      "572    Cloudant          0        NaN          0        NaN\n",
      "740    Facebook        NaN          0          0        NaN\n",
      "    Company  Import_JL  Import_HM  Import_MH  Import_KS\n",
      "857  iCloud        NaN          0        NaN          0\n",
      "858  iCloud        NaN          0        NaN          0\n",
      "859  iCloud        NaN          0        NaN          0\n",
      "860  iCloud        NaN          0        NaN          0\n",
      "861  iCloud        NaN          0        NaN          0\n",
      "862  iCloud        NaN          0        NaN          0\n",
      "863  iCloud        NaN          0        NaN          0\n",
      "864  iCloud        NaN          1        NaN          1\n",
      "865  iCloud        NaN          0        NaN          0\n",
      "866  iCloud        NaN          0        NaN          0\n",
      "867  iCloud        NaN          1        NaN          1\n",
      "868  iCloud        NaN          0        NaN          0\n",
      "869  iCloud        NaN          0        NaN          0\n",
      "870  iCloud        NaN          1        NaN          1\n",
      "871  iCloud        NaN          1        NaN          1\n",
      "872  iCloud        NaN          0        NaN          0\n",
      "873  iCloud        NaN          0        NaN          0\n",
      "874  iCloud        NaN          0        NaN          0\n",
      "875  iCloud        NaN          0        NaN          0\n",
      "876  iCloud        NaN          1        NaN          1\n",
      "877  iCloud        NaN          0        NaN          0\n",
      "878  iCloud        NaN          0        NaN          0\n",
      "879  iCloud        NaN          0        NaN          0\n",
      "880  iCloud        NaN          0        NaN          0\n",
      "881  iCloud        NaN          0        NaN          0\n",
      "882  iCloud        NaN          0        NaN          0\n",
      "883  iCloud        NaN          0        NaN          0\n",
      "884  iCloud        NaN          0        NaN          0\n",
      "885  iCloud        NaN          0        NaN          0\n",
      "886  iCloud        NaN          0        NaN          0\n",
      "..      ...        ...        ...        ...        ...\n",
      "968  iCloud        NaN          1        NaN          1\n",
      "969  iCloud        NaN          0        NaN          0\n",
      "970  iCloud        NaN          1        NaN          1\n",
      "971  iCloud        NaN          1        NaN          1\n",
      "972  iCloud        NaN          0        NaN          0\n",
      "973  iCloud        NaN          0        NaN          0\n",
      "974  iCloud        NaN          0        NaN          0\n",
      "975  iCloud        NaN          0        NaN          0\n",
      "976  iCloud        NaN          0        NaN          0\n",
      "977  iCloud        NaN          0        NaN          0\n",
      "978  iCloud        NaN          0        NaN          0\n",
      "979  iCloud        NaN          0        NaN          0\n",
      "980  iCloud        NaN          1        NaN          1\n",
      "981  iCloud        NaN          0        NaN          0\n",
      "982  iCloud        NaN          0        NaN          0\n",
      "983  iCloud        NaN          0        NaN          0\n",
      "984  iCloud        NaN          0        NaN          0\n",
      "985  iCloud        NaN          0        NaN          0\n",
      "986  iCloud        NaN          0        NaN          0\n",
      "987  iCloud        NaN          0        NaN          0\n",
      "988  iCloud        NaN          0        NaN          0\n",
      "989  iCloud        NaN          0        NaN          0\n",
      "990  iCloud        NaN          0        NaN          0\n",
      "991  iCloud        NaN          0        NaN          0\n",
      "992  iCloud        NaN          0        NaN          0\n",
      "993  iCloud        NaN          0        NaN          0\n",
      "994  iCloud        NaN          0        NaN          0\n",
      "995  iCloud        NaN          0        NaN          0\n",
      "996  iCloud        NaN          0        NaN          0\n",
      "997  iCloud        NaN          0        NaN          0\n",
      "\n",
      "[141 rows x 5 columns]\n"
     ]
    }
   ],
   "source": [
    "# Reassign nulls to values in neighboring annotation columns\n",
    "for name in list(nulls.keys()):\n",
    "    indices = nulls[name]\n",
    "    df.loc[indices, name] = np.all(df.loc[indices, list(nulls.keys())].values, axis = 1).astype('int8')\n",
    "    #print(np.all(df.loc[indices, list(nulls.keys())].values, axis = 1).astype('int8'))\n",
    "    print(df.loc[indices, ['Company'] + list(nulls.keys())])"
   ]
  },
  {
   "cell_type": "code",
   "execution_count": 98,
   "metadata": {
    "collapsed": false,
    "scrolled": true
   },
   "outputs": [
    {
     "name": "stdout",
     "output_type": "stream",
     "text": [
      "                     VI  cohen companies  sampleSize\n",
      "rater1    rater2                                    \n",
      "Import_JL Import_HM NaN    NaN       b''         NaN\n",
      "          Import_MH NaN    NaN       b''         NaN\n",
      "          Import_KS NaN    NaN       b''         NaN\n",
      "Import_HM Import_MH NaN    NaN       b''         NaN\n",
      "          Import_KS NaN    NaN       b''         NaN\n",
      "Import_MH Import_KS NaN    NaN       b''         NaN\n"
     ]
    }
   ],
   "source": [
    "# Initialize agreement metric matrices\n",
    "nrows = len(assignments)*(len(assignments) - 1)/2\n",
    "\n",
    "index = pd.MultiIndex(levels=[list(assignments.keys()), list(assignments.keys())], names = ['rater1','rater2'], labels = [[0,0,0,1,1,2],[1,2,3,2,3,3]])\n",
    "metrics = pd.DataFrame({\"sampleSize\":np.NaN, \"VI\":np.NaN, \"cohen\":np.NaN, \"companies\":np.array(\"\",dtype='S32')}, index = index)\n",
    "print(metrics)"
   ]
  },
  {
   "cell_type": "code",
   "execution_count": 99,
   "metadata": {
    "collapsed": false
   },
   "outputs": [
    {
     "name": "stdout",
     "output_type": "stream",
     "text": [
      "Import_JL Import_HM:\n",
      "Actual:\n",
      "[[ 0.615  0.096]\n",
      " [ 0.058  0.231]]\n",
      "Independent:\n",
      "[[ 0.479  0.233]\n",
      " [ 0.194  0.094]]\n",
      "Import_JL Import_MH:\n",
      "Actual:\n",
      "[[ 0.828  0.039]\n",
      " [ 0.01   0.123]]\n",
      "Independent:\n",
      "[[ 0.727  0.14 ]\n",
      " [ 0.111  0.021]]\n",
      "Import_JL Import_KS:\n",
      "Actual:\n",
      "[[ 0.761  0.068]\n",
      " [ 0.023  0.148]]\n",
      "Independent:\n",
      "[[ 0.65   0.179]\n",
      " [ 0.134  0.037]]\n",
      "Import_HM Import_MH:\n",
      "Actual:\n",
      "[[ 0.686  0.05 ]\n",
      " [ 0.129  0.136]]\n",
      "Independent:\n",
      "[[ 0.599  0.137]\n",
      " [ 0.215  0.049]]\n",
      "Import_HM Import_KS:\n",
      "Actual:\n",
      "[[ 0.811  0.04 ]\n",
      " [ 0.012  0.137]]\n",
      "Independent:\n",
      "[[ 0.701  0.15 ]\n",
      " [ 0.122  0.026]]\n",
      "Import_MH Import_KS:\n",
      "Actual:\n",
      "[[ 0.76   0.127]\n",
      " [ 0.02   0.093]]\n",
      "Independent:\n",
      "[[ 0.692  0.195]\n",
      " [ 0.088  0.025]]\n",
      "                           VI     cohen                   companies  \\\n",
      "rater1    rater2                                                      \n",
      "Import_JL Import_HM  0.592276  0.639515       {'GitHub', 'Twitter'}   \n",
      "          Import_MH  0.243568  0.804934  {'Cloudant', 'SoundCloud'}   \n",
      "          Import_KS  0.389616  0.709331     {'Amazon', 'Instagram'}   \n",
      "Import_HM Import_MH  0.598093  0.492459      {'Facebook', 'Google'}   \n",
      "          Import_KS  0.260570  0.808609         {'Yahoo', 'iCloud'}   \n",
      "Import_MH Import_KS  0.475671  0.482596      {'Netflix', 'Youtube'}   \n",
      "\n",
      "                     sampleSize  \n",
      "rater1    rater2                 \n",
      "Import_JL Import_HM         104  \n",
      "          Import_MH         204  \n",
      "          Import_KS          88  \n",
      "Import_HM Import_MH         140  \n",
      "          Import_KS         249  \n",
      "Import_MH Import_KS         150  \n"
     ]
    }
   ],
   "source": [
    "# Compute the agreement metrics and put in a dataframe\n",
    "max_variation = np.log(4)\n",
    "for i in range(0,(len(assignments)-1)):\n",
    "        for j in range((i+1),len(assignments)):\n",
    "                name1 = list(assignments.keys())[i]\n",
    "                name2 = list(assignments.keys())[j]\n",
    "                \n",
    "                matrix = pd.crosstab(df[name1],df[name2])\n",
    "                total = matrix.values.sum()\n",
    "                proportions = matrix.values/total\n",
    "                \n",
    "                margin1 = np.add.reduce(proportions, axis=0)\n",
    "                margin2 = np.add.reduce(proportions, axis=1)\n",
    "                independent = np.zeros(shape = [len(margin1), len(margin2)], dtype = 'float')\n",
    "                for k in range(0, len(margin2)):\n",
    "                    independent[k,:] = margin1*margin2[k]\n",
    "                print(name1 + \" \" + name2 + \":\")\n",
    "                print(\"Actual:\")\n",
    "                print(proportions.round(3))\n",
    "                print(\"Independent:\")\n",
    "                print(independent.round(3))\n",
    "                \n",
    "                random = independent.diagonal()\n",
    "                actual = proportions.diagonal()\n",
    "                kappa = (np.sum(actual) - np.sum(random))/(1 - np.sum(random))\n",
    "                \n",
    "                entropy1 = -1*np.sum(margin1*np.log(margin1))\n",
    "                entropy2 = -1*np.sum(margin2*np.log(margin2))\n",
    "                mutualInformation = np.sum(proportions*np.log(proportions/independent))\n",
    "                variation = (entropy1 + entropy2 - 2*mutualInformation)/max_variation\n",
    "                \n",
    "                metrics.loc[(name1,name2),['cohen','VI','sampleSize','companies']] = [kappa,variation,total,\n",
    "                                                                                      str(set(assignments[name1]).intersection(set(assignments[name2])))]\n",
    "                \n",
    "print(metrics)"
   ]
  },
  {
   "cell_type": "code",
   "execution_count": 167,
   "metadata": {
    "collapsed": false
   },
   "outputs": [],
   "source": [
    "# Create the final response column(s)\n",
    "df['responseAND'] = np.array(np.int(), dtype = 'int8')\n",
    "df['responseOR'] = np.array(np.int(), dtype = 'int8')\n",
    "for i in range(0,df.shape[0]):\n",
    "    # The intersection of the positive labels (AND)\n",
    "    df.loc[i,\"responseAND\"] = np.min(df.ix[i][list(assignments.keys())].dropna().values)\n",
    "    # The union of the positive labels (OR)\n",
    "    df.loc[i,\"responseOR\"] = np.max(df.ix[i][list(assignments.keys())].dropna().values)\n"
   ]
  },
  {
   "cell_type": "code",
   "execution_count": 168,
   "metadata": {
    "collapsed": true
   },
   "outputs": [],
   "source": [
    "# Write data to csv\n",
    "df.to_csv(\"TermsOfService.csv\", index=False)\n",
    "metrics.reset_index().to_csv(\"AgreementMetrics.csv\", index=False)"
   ]
  }
 ],
 "metadata": {
  "kernelspec": {
   "display_name": "Python 3",
   "language": "python",
   "name": "python3"
  },
  "language_info": {
   "codemirror_mode": {
    "name": "ipython",
    "version": 3
   },
   "file_extension": ".py",
   "mimetype": "text/x-python",
   "name": "python",
   "nbconvert_exporter": "python",
   "pygments_lexer": "ipython3",
   "version": "3.4.3"
  }
 },
 "nbformat": 4,
 "nbformat_minor": 0
}
